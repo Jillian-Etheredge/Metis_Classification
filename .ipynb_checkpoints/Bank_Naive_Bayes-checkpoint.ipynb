{
 "cells": [
  {
   "cell_type": "code",
   "execution_count": 1,
   "id": "brown-january",
   "metadata": {},
   "outputs": [],
   "source": [
    "import pandas as pd\n",
    "import numpy as np\n",
    "import matplotlib.pyplot as plt\n",
    "import seaborn as sns\n",
    "plt.style.use('ggplot')\n",
    "%matplotlib inline\n",
    "np.set_printoptions(suppress=True)\n",
    "\n",
    "from sklearn.compose import ColumnTransformer\n",
    "from sklearn.pipeline import Pipeline\n",
    "from sklearn.preprocessing import StandardScaler, RobustScaler, OneHotEncoder\n",
    "from sklearn.model_selection import train_test_split\n",
    "from sklearn.naive_bayes import MultinomialNB, GaussianNB,BernoulliNB\n",
    "from sklearn.metrics import precision_score, recall_score, precision_recall_curve,f1_score, fbeta_score\n",
    "from sklearn.metrics import confusion_matrix, classification_report, roc_auc_score, roc_curve\n",
    "from scipy.stats import uniform\n",
    "\n",
    "from jne_functions import *\n",
    "from ipywidgets import interactive, FloatSlider"
   ]
  },
  {
   "cell_type": "code",
   "execution_count": 2,
   "id": "surprising-eleven",
   "metadata": {
    "scrolled": true
   },
   "outputs": [
    {
     "data": {
      "text/html": [
       "<div>\n",
       "<style scoped>\n",
       "    .dataframe tbody tr th:only-of-type {\n",
       "        vertical-align: middle;\n",
       "    }\n",
       "\n",
       "    .dataframe tbody tr th {\n",
       "        vertical-align: top;\n",
       "    }\n",
       "\n",
       "    .dataframe thead th {\n",
       "        text-align: right;\n",
       "    }\n",
       "</style>\n",
       "<table border=\"1\" class=\"dataframe\">\n",
       "  <thead>\n",
       "    <tr style=\"text-align: right;\">\n",
       "      <th></th>\n",
       "      <th>age</th>\n",
       "      <th>job</th>\n",
       "      <th>marital</th>\n",
       "      <th>education</th>\n",
       "      <th>default</th>\n",
       "      <th>housing</th>\n",
       "      <th>loan</th>\n",
       "      <th>contact</th>\n",
       "      <th>month</th>\n",
       "      <th>day_of_week</th>\n",
       "      <th>...</th>\n",
       "      <th>cons.conf.idx</th>\n",
       "      <th>euribor3m</th>\n",
       "      <th>nr.employed</th>\n",
       "      <th>deposit</th>\n",
       "      <th>age_group</th>\n",
       "      <th>season</th>\n",
       "      <th>pdays_bin</th>\n",
       "      <th>year</th>\n",
       "      <th>employment</th>\n",
       "      <th>month_num</th>\n",
       "    </tr>\n",
       "  </thead>\n",
       "  <tbody>\n",
       "    <tr>\n",
       "      <th>0</th>\n",
       "      <td>56</td>\n",
       "      <td>housemaid</td>\n",
       "      <td>married</td>\n",
       "      <td>basic.4y</td>\n",
       "      <td>no</td>\n",
       "      <td>no</td>\n",
       "      <td>no</td>\n",
       "      <td>telephone</td>\n",
       "      <td>may</td>\n",
       "      <td>mon</td>\n",
       "      <td>...</td>\n",
       "      <td>-36.4</td>\n",
       "      <td>4.857</td>\n",
       "      <td>5191.0</td>\n",
       "      <td>0</td>\n",
       "      <td>Middle-aged</td>\n",
       "      <td>spring</td>\n",
       "      <td>0</td>\n",
       "      <td>2008</td>\n",
       "      <td>employed</td>\n",
       "      <td>5</td>\n",
       "    </tr>\n",
       "    <tr>\n",
       "      <th>1</th>\n",
       "      <td>57</td>\n",
       "      <td>services</td>\n",
       "      <td>married</td>\n",
       "      <td>high.school</td>\n",
       "      <td>unknown</td>\n",
       "      <td>no</td>\n",
       "      <td>no</td>\n",
       "      <td>telephone</td>\n",
       "      <td>may</td>\n",
       "      <td>mon</td>\n",
       "      <td>...</td>\n",
       "      <td>-36.4</td>\n",
       "      <td>4.857</td>\n",
       "      <td>5191.0</td>\n",
       "      <td>0</td>\n",
       "      <td>Middle-aged</td>\n",
       "      <td>spring</td>\n",
       "      <td>0</td>\n",
       "      <td>2008</td>\n",
       "      <td>employed</td>\n",
       "      <td>5</td>\n",
       "    </tr>\n",
       "    <tr>\n",
       "      <th>2</th>\n",
       "      <td>37</td>\n",
       "      <td>services</td>\n",
       "      <td>married</td>\n",
       "      <td>high.school</td>\n",
       "      <td>no</td>\n",
       "      <td>yes</td>\n",
       "      <td>no</td>\n",
       "      <td>telephone</td>\n",
       "      <td>may</td>\n",
       "      <td>mon</td>\n",
       "      <td>...</td>\n",
       "      <td>-36.4</td>\n",
       "      <td>4.857</td>\n",
       "      <td>5191.0</td>\n",
       "      <td>0</td>\n",
       "      <td>Adult</td>\n",
       "      <td>spring</td>\n",
       "      <td>0</td>\n",
       "      <td>2008</td>\n",
       "      <td>employed</td>\n",
       "      <td>5</td>\n",
       "    </tr>\n",
       "    <tr>\n",
       "      <th>3</th>\n",
       "      <td>40</td>\n",
       "      <td>admin.</td>\n",
       "      <td>married</td>\n",
       "      <td>basic.6y</td>\n",
       "      <td>no</td>\n",
       "      <td>no</td>\n",
       "      <td>no</td>\n",
       "      <td>telephone</td>\n",
       "      <td>may</td>\n",
       "      <td>mon</td>\n",
       "      <td>...</td>\n",
       "      <td>-36.4</td>\n",
       "      <td>4.857</td>\n",
       "      <td>5191.0</td>\n",
       "      <td>0</td>\n",
       "      <td>Middle-aged</td>\n",
       "      <td>spring</td>\n",
       "      <td>0</td>\n",
       "      <td>2008</td>\n",
       "      <td>employed</td>\n",
       "      <td>5</td>\n",
       "    </tr>\n",
       "    <tr>\n",
       "      <th>4</th>\n",
       "      <td>56</td>\n",
       "      <td>services</td>\n",
       "      <td>married</td>\n",
       "      <td>high.school</td>\n",
       "      <td>no</td>\n",
       "      <td>no</td>\n",
       "      <td>yes</td>\n",
       "      <td>telephone</td>\n",
       "      <td>may</td>\n",
       "      <td>mon</td>\n",
       "      <td>...</td>\n",
       "      <td>-36.4</td>\n",
       "      <td>4.857</td>\n",
       "      <td>5191.0</td>\n",
       "      <td>0</td>\n",
       "      <td>Middle-aged</td>\n",
       "      <td>spring</td>\n",
       "      <td>0</td>\n",
       "      <td>2008</td>\n",
       "      <td>employed</td>\n",
       "      <td>5</td>\n",
       "    </tr>\n",
       "    <tr>\n",
       "      <th>...</th>\n",
       "      <td>...</td>\n",
       "      <td>...</td>\n",
       "      <td>...</td>\n",
       "      <td>...</td>\n",
       "      <td>...</td>\n",
       "      <td>...</td>\n",
       "      <td>...</td>\n",
       "      <td>...</td>\n",
       "      <td>...</td>\n",
       "      <td>...</td>\n",
       "      <td>...</td>\n",
       "      <td>...</td>\n",
       "      <td>...</td>\n",
       "      <td>...</td>\n",
       "      <td>...</td>\n",
       "      <td>...</td>\n",
       "      <td>...</td>\n",
       "      <td>...</td>\n",
       "      <td>...</td>\n",
       "      <td>...</td>\n",
       "      <td>...</td>\n",
       "    </tr>\n",
       "    <tr>\n",
       "      <th>41183</th>\n",
       "      <td>73</td>\n",
       "      <td>retired</td>\n",
       "      <td>married</td>\n",
       "      <td>professional.course</td>\n",
       "      <td>no</td>\n",
       "      <td>yes</td>\n",
       "      <td>no</td>\n",
       "      <td>cellular</td>\n",
       "      <td>nov</td>\n",
       "      <td>fri</td>\n",
       "      <td>...</td>\n",
       "      <td>-50.8</td>\n",
       "      <td>1.028</td>\n",
       "      <td>4963.6</td>\n",
       "      <td>1</td>\n",
       "      <td>Senior</td>\n",
       "      <td>fall</td>\n",
       "      <td>0</td>\n",
       "      <td>2010</td>\n",
       "      <td>retired</td>\n",
       "      <td>11</td>\n",
       "    </tr>\n",
       "    <tr>\n",
       "      <th>41184</th>\n",
       "      <td>46</td>\n",
       "      <td>blue-collar</td>\n",
       "      <td>married</td>\n",
       "      <td>professional.course</td>\n",
       "      <td>no</td>\n",
       "      <td>no</td>\n",
       "      <td>no</td>\n",
       "      <td>cellular</td>\n",
       "      <td>nov</td>\n",
       "      <td>fri</td>\n",
       "      <td>...</td>\n",
       "      <td>-50.8</td>\n",
       "      <td>1.028</td>\n",
       "      <td>4963.6</td>\n",
       "      <td>0</td>\n",
       "      <td>Middle-aged</td>\n",
       "      <td>fall</td>\n",
       "      <td>0</td>\n",
       "      <td>2010</td>\n",
       "      <td>employed</td>\n",
       "      <td>11</td>\n",
       "    </tr>\n",
       "    <tr>\n",
       "      <th>41185</th>\n",
       "      <td>56</td>\n",
       "      <td>retired</td>\n",
       "      <td>married</td>\n",
       "      <td>university.degree</td>\n",
       "      <td>no</td>\n",
       "      <td>yes</td>\n",
       "      <td>no</td>\n",
       "      <td>cellular</td>\n",
       "      <td>nov</td>\n",
       "      <td>fri</td>\n",
       "      <td>...</td>\n",
       "      <td>-50.8</td>\n",
       "      <td>1.028</td>\n",
       "      <td>4963.6</td>\n",
       "      <td>0</td>\n",
       "      <td>Middle-aged</td>\n",
       "      <td>fall</td>\n",
       "      <td>0</td>\n",
       "      <td>2010</td>\n",
       "      <td>retired</td>\n",
       "      <td>11</td>\n",
       "    </tr>\n",
       "    <tr>\n",
       "      <th>41186</th>\n",
       "      <td>44</td>\n",
       "      <td>technician</td>\n",
       "      <td>married</td>\n",
       "      <td>professional.course</td>\n",
       "      <td>no</td>\n",
       "      <td>no</td>\n",
       "      <td>no</td>\n",
       "      <td>cellular</td>\n",
       "      <td>nov</td>\n",
       "      <td>fri</td>\n",
       "      <td>...</td>\n",
       "      <td>-50.8</td>\n",
       "      <td>1.028</td>\n",
       "      <td>4963.6</td>\n",
       "      <td>1</td>\n",
       "      <td>Middle-aged</td>\n",
       "      <td>fall</td>\n",
       "      <td>0</td>\n",
       "      <td>2010</td>\n",
       "      <td>employed</td>\n",
       "      <td>11</td>\n",
       "    </tr>\n",
       "    <tr>\n",
       "      <th>41187</th>\n",
       "      <td>74</td>\n",
       "      <td>retired</td>\n",
       "      <td>married</td>\n",
       "      <td>professional.course</td>\n",
       "      <td>no</td>\n",
       "      <td>yes</td>\n",
       "      <td>no</td>\n",
       "      <td>cellular</td>\n",
       "      <td>nov</td>\n",
       "      <td>fri</td>\n",
       "      <td>...</td>\n",
       "      <td>-50.8</td>\n",
       "      <td>1.028</td>\n",
       "      <td>4963.6</td>\n",
       "      <td>0</td>\n",
       "      <td>Senior</td>\n",
       "      <td>fall</td>\n",
       "      <td>0</td>\n",
       "      <td>2010</td>\n",
       "      <td>retired</td>\n",
       "      <td>11</td>\n",
       "    </tr>\n",
       "  </tbody>\n",
       "</table>\n",
       "<p>41176 rows × 27 columns</p>\n",
       "</div>"
      ],
      "text/plain": [
       "       age          job  marital            education  default housing loan  \\\n",
       "0       56    housemaid  married             basic.4y       no      no   no   \n",
       "1       57     services  married          high.school  unknown      no   no   \n",
       "2       37     services  married          high.school       no     yes   no   \n",
       "3       40       admin.  married             basic.6y       no      no   no   \n",
       "4       56     services  married          high.school       no      no  yes   \n",
       "...    ...          ...      ...                  ...      ...     ...  ...   \n",
       "41183   73      retired  married  professional.course       no     yes   no   \n",
       "41184   46  blue-collar  married  professional.course       no      no   no   \n",
       "41185   56      retired  married    university.degree       no     yes   no   \n",
       "41186   44   technician  married  professional.course       no      no   no   \n",
       "41187   74      retired  married  professional.course       no     yes   no   \n",
       "\n",
       "         contact month day_of_week  ...  cons.conf.idx  euribor3m  \\\n",
       "0      telephone   may         mon  ...          -36.4      4.857   \n",
       "1      telephone   may         mon  ...          -36.4      4.857   \n",
       "2      telephone   may         mon  ...          -36.4      4.857   \n",
       "3      telephone   may         mon  ...          -36.4      4.857   \n",
       "4      telephone   may         mon  ...          -36.4      4.857   \n",
       "...          ...   ...         ...  ...            ...        ...   \n",
       "41183   cellular   nov         fri  ...          -50.8      1.028   \n",
       "41184   cellular   nov         fri  ...          -50.8      1.028   \n",
       "41185   cellular   nov         fri  ...          -50.8      1.028   \n",
       "41186   cellular   nov         fri  ...          -50.8      1.028   \n",
       "41187   cellular   nov         fri  ...          -50.8      1.028   \n",
       "\n",
       "       nr.employed  deposit    age_group  season  pdays_bin  year  employment  \\\n",
       "0           5191.0        0  Middle-aged  spring          0  2008    employed   \n",
       "1           5191.0        0  Middle-aged  spring          0  2008    employed   \n",
       "2           5191.0        0        Adult  spring          0  2008    employed   \n",
       "3           5191.0        0  Middle-aged  spring          0  2008    employed   \n",
       "4           5191.0        0  Middle-aged  spring          0  2008    employed   \n",
       "...            ...      ...          ...     ...        ...   ...         ...   \n",
       "41183       4963.6        1       Senior    fall          0  2010     retired   \n",
       "41184       4963.6        0  Middle-aged    fall          0  2010    employed   \n",
       "41185       4963.6        0  Middle-aged    fall          0  2010     retired   \n",
       "41186       4963.6        1  Middle-aged    fall          0  2010    employed   \n",
       "41187       4963.6        0       Senior    fall          0  2010     retired   \n",
       "\n",
       "       month_num  \n",
       "0              5  \n",
       "1              5  \n",
       "2              5  \n",
       "3              5  \n",
       "4              5  \n",
       "...          ...  \n",
       "41183         11  \n",
       "41184         11  \n",
       "41185         11  \n",
       "41186         11  \n",
       "41187         11  \n",
       "\n",
       "[41176 rows x 27 columns]"
      ]
     },
     "execution_count": 2,
     "metadata": {},
     "output_type": "execute_result"
    }
   ],
   "source": [
    "df=pd.read_csv('bank_marketing_modified.csv',index_col=[0])\n",
    "df"
   ]
  },
  {
   "cell_type": "markdown",
   "id": "reverse-height",
   "metadata": {},
   "source": [
    "# Modeling with Naive Bayes"
   ]
  },
  {
   "cell_type": "code",
   "execution_count": 3,
   "id": "pressed-acceptance",
   "metadata": {},
   "outputs": [],
   "source": [
    "X=df.loc[:,['campaign','previous','emp.var.rate','year',\n",
    "            'cons.price.idx','cons.conf.idx','euribor3m','nr.employed',\n",
    "            'job','marital','education','poutcome',\n",
    "            'default','housing','loan','month','day_of_week','pdays_bin','age_group']]\n",
    "y=df['deposit']"
   ]
  },
  {
   "cell_type": "code",
   "execution_count": 4,
   "id": "according-present",
   "metadata": {},
   "outputs": [],
   "source": [
    "X_train, X_test, y_train, y_test = train_test_split(X, y, test_size=0.2, random_state=1, stratify=y)"
   ]
  },
  {
   "cell_type": "code",
   "execution_count": 5,
   "id": "loaded-effort",
   "metadata": {
    "scrolled": true
   },
   "outputs": [
    {
     "data": {
      "text/plain": [
       "Pipeline(steps=[('prep',\n",
       "                 ColumnTransformer(transformers=[('num',\n",
       "                                                  Pipeline(steps=[('ss',\n",
       "                                                                   StandardScaler())]),\n",
       "                                                  ['year', 'campaign',\n",
       "                                                   'previous', 'emp.var.rate',\n",
       "                                                   'cons.price.idx',\n",
       "                                                   'cons.conf.idx', 'euribor3m',\n",
       "                                                   'nr.employed']),\n",
       "                                                 ('cat',\n",
       "                                                  OneHotEncoder(drop='first'),\n",
       "                                                  ['poutcome', 'job', 'marital',\n",
       "                                                   'education', 'default',\n",
       "                                                   'housing', 'loan', 'month',\n",
       "                                                   'day_of_week',\n",
       "                                                   'age_group'])])),\n",
       "                ('Berni', BernoulliNB())])"
      ]
     },
     "execution_count": 5,
     "metadata": {},
     "output_type": "execute_result"
    }
   ],
   "source": [
    "    numeric_features=['year','campaign','previous','emp.var.rate','cons.price.idx','cons.conf.idx','euribor3m','nr.employed',]\n",
    "    numeric_transformer= Pipeline(steps=[ ('ss',StandardScaler())])\n",
    "\n",
    "    categorical_features=['poutcome','job','marital','education','default','housing','loan','month','day_of_week','age_group']\n",
    "    categorical_transformer=OneHotEncoder(handle_unknown='error',drop='first')\n",
    "\n",
    "    preprocessor= ColumnTransformer(\n",
    "        transformers=[\n",
    "            ('num',numeric_transformer,numeric_features),\n",
    "            ('cat', categorical_transformer,categorical_features)\n",
    "        ])\n",
    "\n",
    "    pipe=Pipeline(steps=[('prep',preprocessor),\n",
    "                        ('Berni',BernoulliNB())])\n",
    "    pipe.fit(X_train,y_train)"
   ]
  },
  {
   "cell_type": "code",
   "execution_count": 6,
   "id": "arranged-genius",
   "metadata": {},
   "outputs": [],
   "source": [
    "def make_confusion_matrix(model, threshold=0.5):\n",
    "    import matplotlib.pyplot as plt\n",
    "    import seaborn as sns\n",
    "    from sklearn.metrics import confusion_matrix\n",
    "    \n",
    "    y_predict = (model.predict_proba(X_test)[:, 1] >= threshold)\n",
    "    deposit_confusion = confusion_matrix(y_test, y_predict)\n",
    "    plt.figure(dpi=80)\n",
    "    group_counts=['{0:0.0f}'.format(value) for value in deposit_confusion.flatten()]\n",
    "    group_perc=['{0:.2%}'.format(value) for value in deposit_confusion.flatten()/np.sum(deposit_confusion)]\n",
    "    labels=[f'{v1}\\n{v2}' for v1,v2 in zip(group_counts,group_perc)]\n",
    "    labels=np.asarray(labels).reshape(2,2)\n",
    "    sns.heatmap(deposit_confusion, cmap=plt.cm.Blues, annot=labels, square=True, fmt='',\n",
    "                xticklabels=['No', 'Yes'],\n",
    "                yticklabels=['No', 'Yes']);\n",
    "    plt.xlabel('Prediction').set_color('black')\n",
    "    plt.ylabel('Actual').set_color('black')\n",
    "    plt.title ('Naive Bayes Confusion matrix')\n",
    "    plt.tick_params(colors='black')"
   ]
  },
  {
   "cell_type": "code",
   "execution_count": 7,
   "id": "excited-wheel",
   "metadata": {
    "scrolled": true
   },
   "outputs": [
    {
     "data": {
      "application/vnd.jupyter.widget-view+json": {
       "model_id": "b62c322a7cef4a749b85fd8075863323",
       "version_major": 2,
       "version_minor": 0
      },
      "text/plain": [
       "interactive(children=(FloatSlider(value=0.5, description='threshold', max=1.0, step=0.02), Output()), _dom_cla…"
      ]
     },
     "metadata": {},
     "output_type": "display_data"
    }
   ],
   "source": [
    "interactive(lambda threshold: make_confusion_matrix(pipe, threshold), threshold=(0.0,1.0,0.02))"
   ]
  },
  {
   "cell_type": "code",
   "execution_count": 8,
   "id": "infectious-nepal",
   "metadata": {},
   "outputs": [
    {
     "data": {
      "image/png": "[encoded data removed]",
      "text/plain": [
       "<Figure size 480x320 with 2 Axes>"
      ]
     },
     "metadata": {
      "needs_background": "light"
     },
     "output_type": "display_data"
    }
   ],
   "source": [
    "make_confusion_matrix(pipe,0.50)\n",
    "plt.savefig('NB_confusion_matrix.svg',format='svg');"
   ]
  },
  {
   "cell_type": "code",
   "execution_count": 9,
   "id": "rising-hammer",
   "metadata": {},
   "outputs": [
    {
     "data": {
      "image/png": "[encoded data removed]",
      "text/plain": [
       "<Figure size 480x320 with 1 Axes>"
      ]
     },
     "metadata": {
      "needs_background": "light"
     },
     "output_type": "display_data"
    }
   ],
   "source": [
    "precision_curve, recall_curve, threshold_curve = precision_recall_curve(y_test, pipe.predict_proba(X_test)[:,1] )\n",
    "plt.figure(dpi=80)\n",
    "plt.plot(threshold_curve, precision_curve[1:],label='precision')\n",
    "plt.plot(threshold_curve, recall_curve[1:], label='recall')\n",
    "plt.legend(loc='lower left')\n",
    "plt.xlabel('Threshold (above this probability, label as yes)').set_color('black')\n",
    "plt.tick_params(colors='black')\n",
    "plt.title('Naive Bayes Precision and Recall Curves');\n",
    "plt.savefig('NB_prcurve.svg',format='svg')"
   ]
  },
  {
   "cell_type": "code",
   "execution_count": 10,
   "id": "hourly-farmer",
   "metadata": {},
   "outputs": [
    {
     "data": {
      "text/plain": [
       "0.3981572885817703"
      ]
     },
     "execution_count": 10,
     "metadata": {},
     "output_type": "execute_result"
    }
   ],
   "source": [
    "y_predict = pipe.predict(X_test)\n",
    "f1_score(y_test, y_predict)\n",
    "#0.423 with age\n",
    "#0.421 without age"
   ]
  },
  {
   "cell_type": "code",
   "execution_count": 11,
   "id": "oriented-reward",
   "metadata": {},
   "outputs": [],
   "source": [
    "#y_predict = (pipe.predict_proba(X_test)[:, 1] > 0.3)\n",
    "#f1_score(y_test, y_predict)\n",
    "#0.398 with age"
   ]
  },
  {
   "cell_type": "code",
   "execution_count": 12,
   "id": "extra-perception",
   "metadata": {},
   "outputs": [
    {
     "data": {
      "text/plain": [
       "0.6926079079237982"
      ]
     },
     "execution_count": 12,
     "metadata": {},
     "output_type": "execute_result"
    }
   ],
   "source": [
    "#a higher beta more heavily weighs recall\n",
    "y_predict = pipe.predict(X_test)\n",
    "fbeta_score(y_test, y_predict,average='macro',beta=3)\n",
    "#weighted, beta=5, 0.8194768553587276 with age\n",
    "#macro, beta 3 0.7016280319381358 wtih age\n",
    "# macro b=3 without age 0.7006074914846923"
   ]
  },
  {
   "cell_type": "code",
   "execution_count": 13,
   "id": "golden-inflation",
   "metadata": {},
   "outputs": [
    {
     "data": {
      "text/plain": [
       "0.6310000319183697"
      ]
     },
     "execution_count": 13,
     "metadata": {},
     "output_type": "execute_result"
    }
   ],
   "source": [
    "y_predict = pipe.predict(X_test)\n",
    "f1_score(y_test, y_predict, average='macro')\n",
    "#0.658 with age\n",
    "#0.657 without age"
   ]
  },
  {
   "cell_type": "code",
   "execution_count": 14,
   "id": "korean-tackle",
   "metadata": {
    "scrolled": true
   },
   "outputs": [
    {
     "name": "stdout",
     "output_type": "stream",
     "text": [
      "              precision    recall  f1-score   support\n",
      "\n",
      "           0       0.95      0.79      0.86      7308\n",
      "           1       0.29      0.65      0.40       928\n",
      "\n",
      "    accuracy                           0.78      8236\n",
      "   macro avg       0.62      0.72      0.63      8236\n",
      "weighted avg       0.87      0.78      0.81      8236\n",
      "\n"
     ]
    }
   ],
   "source": [
    "print(classification_report(y_test,y_predict))"
   ]
  },
  {
   "cell_type": "code",
   "execution_count": 15,
   "id": "weighted-bullet",
   "metadata": {},
   "outputs": [],
   "source": [
    "fpr, tpr, thresholds = roc_curve(y_test, pipe.predict_proba(X_test)[:,1])"
   ]
  },
  {
   "cell_type": "code",
   "execution_count": 16,
   "id": "proof-network",
   "metadata": {},
   "outputs": [
    {
     "name": "stdout",
     "output_type": "stream",
     "text": [
      "ROC AUC score =  0.7634850152407376\n"
     ]
    },
    {
     "data": {
      "image/png": "[encoded data removed]",
      "text/plain": [
       "<Figure size 432x288 with 1 Axes>"
      ]
     },
     "metadata": {
      "needs_background": "light"
     },
     "output_type": "display_data"
    }
   ],
   "source": [
    "plt.plot(fpr, tpr,lw=2)\n",
    "plt.plot([0,1],[0,1],c='violet',ls='--')\n",
    "plt.xlim([-0.05,1.05])\n",
    "plt.ylim([-0.05,1.05])\n",
    "\n",
    "plt.tick_params(colors='black')\n",
    "plt.xlabel('False positive rate').set_color('black')\n",
    "plt.ylabel('True positive rate').set_color('black')\n",
    "plt.title('Naive Bayes ROC curve for deposit data');\n",
    "plt.savefig('NB_ROC.svg',format='svg')\n",
    "print(\"ROC AUC score = \", roc_auc_score(y_test, pipe.predict_proba(X_test)[:,1]))"
   ]
  },
  {
   "cell_type": "markdown",
   "id": "distant-individual",
   "metadata": {},
   "source": [
    "# RANDOM OVERSAMPLING"
   ]
  },
  {
   "cell_type": "code",
   "execution_count": 17,
   "id": "fleet-treasure",
   "metadata": {},
   "outputs": [],
   "source": [
    "X=df.loc[:,['campaign','previous','emp.var.rate','year',\n",
    "            'cons.price.idx','cons.conf.idx','euribor3m',\n",
    "            'nr.employed','job','marital','education','poutcome',\n",
    "            'default','housing','loan','month','day_of_week','pdays_bin','age_group']]\n",
    "y=df['deposit']"
   ]
  },
  {
   "cell_type": "code",
   "execution_count": 18,
   "id": "brutal-exchange",
   "metadata": {},
   "outputs": [],
   "source": [
    "X_train, X_test, y_train, y_test = train_test_split(X, y, test_size=0.2, random_state=1, stratify=y)"
   ]
  },
  {
   "cell_type": "code",
   "execution_count": 19,
   "id": "infectious-cutting",
   "metadata": {},
   "outputs": [],
   "source": [
    "from imblearn.over_sampling import RandomOverSampler\n",
    "ros = RandomOverSampler(random_state=0)\n",
    "ros_X_train, ros_y_train = ros.fit_sample(X_train,y_train)"
   ]
  },
  {
   "cell_type": "code",
   "execution_count": 20,
   "id": "located-alexandria",
   "metadata": {},
   "outputs": [
    {
     "data": {
      "text/plain": [
       "Pipeline(steps=[('prep',\n",
       "                 ColumnTransformer(transformers=[('num',\n",
       "                                                  Pipeline(steps=[('ss',\n",
       "                                                                   StandardScaler())]),\n",
       "                                                  ['year', 'campaign',\n",
       "                                                   'previous', 'emp.var.rate',\n",
       "                                                   'cons.price.idx',\n",
       "                                                   'cons.conf.idx']),\n",
       "                                                 ('cat',\n",
       "                                                  OneHotEncoder(drop='first'),\n",
       "                                                  ['poutcome', 'job', 'marital',\n",
       "                                                   'education', 'default',\n",
       "                                                   'housing', 'loan', 'month',\n",
       "                                                   'day_of_week',\n",
       "                                                   'age_group'])])),\n",
       "                ('Berni', BernoulliNB())])"
      ]
     },
     "execution_count": 20,
     "metadata": {},
     "output_type": "execute_result"
    }
   ],
   "source": [
    "    numeric_features=['year','campaign','previous','emp.var.rate','cons.price.idx','cons.conf.idx']\n",
    "    numeric_transformer= Pipeline(steps=[ ('ss',StandardScaler())])\n",
    "\n",
    "    categorical_features=['poutcome','job','marital','education','default','housing','loan','month','day_of_week','age_group']\n",
    "    categorical_transformer=OneHotEncoder(handle_unknown='error',drop='first')\n",
    "\n",
    "    preprocessor= ColumnTransformer(\n",
    "        transformers=[\n",
    "            ('num',numeric_transformer,numeric_features),\n",
    "            ('cat', categorical_transformer,categorical_features)\n",
    "        ])\n",
    "\n",
    "    pipe=Pipeline(steps=[('prep',preprocessor),\n",
    "                        ('Berni',BernoulliNB())])\n",
    "    pipe.fit(ros_X_train,ros_y_train)"
   ]
  },
  {
   "cell_type": "code",
   "execution_count": 21,
   "id": "stock-complaint",
   "metadata": {},
   "outputs": [],
   "source": [
    "def make_confusion_matrix(model, threshold=0.5):\n",
    "    import matplotlib.pyplot as plt\n",
    "    import seaborn as sns\n",
    "    from sklearn.metrics import confusion_matrix\n",
    "    \n",
    "    y_predict = (model.predict_proba(X_test)[:, 1] >= threshold)\n",
    "    deposit_confusion = confusion_matrix(y_test, y_predict)\n",
    "    plt.figure(dpi=80)\n",
    "    group_counts=['{0:0.0f}'.format(value) for value in deposit_confusion.flatten()]\n",
    "    group_perc=['{0:.2%}'.format(value) for value in deposit_confusion.flatten()/np.sum(deposit_confusion)]\n",
    "    labels=[f'{v1}\\n{v2}' for v1,v2 in zip(group_counts,group_perc)]\n",
    "    labels=np.asarray(labels).reshape(2,2)\n",
    "    sns.heatmap(deposit_confusion, cmap=plt.cm.Blues, annot=labels, square=True, fmt='',\n",
    "                xticklabels=['No', 'Yes'],\n",
    "                yticklabels=['No', 'Yes']);\n",
    "    plt.xlabel('Prediction').set_color('black')\n",
    "    plt.ylabel('Actual').set_color('black')\n",
    "    plt.title ('Naive Bayes Confusion matrix')\n",
    "    plt.tick_params(colors='black')"
   ]
  },
  {
   "cell_type": "code",
   "execution_count": 22,
   "id": "capital-medicaid",
   "metadata": {},
   "outputs": [
    {
     "data": {
      "application/vnd.jupyter.widget-view+json": {
       "model_id": "f7f0ef6282844bbc8c4bbadf68cd3cba",
       "version_major": 2,
       "version_minor": 0
      },
      "text/plain": [
       "interactive(children=(FloatSlider(value=0.5, description='threshold', max=1.0, step=0.02), Output()), _dom_cla…"
      ]
     },
     "metadata": {},
     "output_type": "display_data"
    }
   ],
   "source": [
    "interactive(lambda threshold: make_confusion_matrix(pipe, threshold), threshold=(0.0,1.0,0.02))"
   ]
  },
  {
   "cell_type": "code",
   "execution_count": 23,
   "id": "vocational-reservation",
   "metadata": {},
   "outputs": [
    {
     "data": {
      "image/png": "[encoded data removed]",
      "text/plain": [
       "<Figure size 480x320 with 1 Axes>"
      ]
     },
     "metadata": {
      "needs_background": "light"
     },
     "output_type": "display_data"
    }
   ],
   "source": [
    "precision_curve, recall_curve, threshold_curve = precision_recall_curve(y_test, pipe.predict_proba(X_test)[:,1] )\n",
    "plt.figure(dpi=80)\n",
    "plt.plot(threshold_curve, precision_curve[1:],label='precision')\n",
    "plt.plot(threshold_curve, recall_curve[1:], label='recall')\n",
    "plt.legend(loc='lower left')\n",
    "plt.xlabel('Threshold (above this probability, label as yes)');\n",
    "plt.title('Precision and Recall Curves');"
   ]
  },
  {
   "cell_type": "code",
   "execution_count": 24,
   "id": "sharp-tolerance",
   "metadata": {},
   "outputs": [
    {
     "name": "stdout",
     "output_type": "stream",
     "text": [
      "              precision    recall  f1-score   support\n",
      "\n",
      "           0       0.95      0.76      0.84      7308\n",
      "           1       0.26      0.68      0.38       928\n",
      "\n",
      "    accuracy                           0.75      8236\n",
      "   macro avg       0.61      0.72      0.61      8236\n",
      "weighted avg       0.87      0.75      0.79      8236\n",
      "\n"
     ]
    }
   ],
   "source": [
    "y_predict = pipe.predict(X_test)\n",
    "print(classification_report(y_test,y_predict))"
   ]
  },
  {
   "cell_type": "code",
   "execution_count": 25,
   "id": "spare-change",
   "metadata": {},
   "outputs": [
    {
     "name": "stdout",
     "output_type": "stream",
     "text": [
      "ROC AUC score =  0.7630267314515977\n"
     ]
    },
    {
     "data": {
      "image/png": "[encoded data removed]",
      "text/plain": [
       "<Figure size 432x288 with 1 Axes>"
      ]
     },
     "metadata": {
      "needs_background": "light"
     },
     "output_type": "display_data"
    }
   ],
   "source": [
    "plt.plot(fpr, tpr,lw=2)\n",
    "plt.plot([0,1],[0,1],c='violet',ls='--')\n",
    "plt.xlim([-0.05,1.05])\n",
    "plt.ylim([-0.05,1.05])\n",
    "\n",
    "\n",
    "plt.xlabel('False positive rate')\n",
    "plt.ylabel('True positive rate')\n",
    "plt.title('ROC curve for deposit data');\n",
    "print(\"ROC AUC score = \", roc_auc_score(y_test, pipe.predict_proba(X_test)[:,1]))"
   ]
  },
  {
   "cell_type": "code",
   "execution_count": null,
   "id": "solved-stephen",
   "metadata": {},
   "outputs": [],
   "source": []
  },
  {
   "cell_type": "code",
   "execution_count": null,
   "id": "bearing-acceptance",
   "metadata": {},
   "outputs": [],
   "source": []
  }
 ],
 "metadata": {
  "kernelspec": {
   "display_name": "Python [conda env:metis] *",
   "language": "python",
   "name": "conda-env-metis-py"
  },
  "language_info": {
   "codemirror_mode": {
    "name": "ipython",
    "version": 3
   },
   "file_extension": ".py",
   "mimetype": "text/x-python",
   "name": "python",
   "nbconvert_exporter": "python",
   "pygments_lexer": "ipython3",
   "version": "3.8.6"
  }
 },
 "nbformat": 4,
 "nbformat_minor": 5
}
