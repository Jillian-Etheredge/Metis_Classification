{
 "cells": [
  {
   "cell_type": "code",
   "execution_count": 1,
   "id": "convenient-audit",
   "metadata": {},
   "outputs": [],
   "source": [
    "import pandas as pd\n",
    "import numpy as np\n",
    "import matplotlib.pyplot as plt\n",
    "import seaborn as sns\n",
    "plt.style.use('ggplot')\n",
    "%matplotlib inline\n",
    "np.set_printoptions(suppress=True)\n",
    "\n",
    "from jne_functions import *\n",
    "from ipywidgets import interactive, FloatSlider\n",
    "import xgboost as xgb\n",
    "from sklearn.model_selection import RandomizedSearchCV\n",
    "from sklearn.metrics import confusion_matrix\n",
    "from sklearn.metrics import precision_score, recall_score, precision_recall_curve,f1_score, fbeta_score"
   ]
  },
  {
   "cell_type": "code",
   "execution_count": 2,
   "id": "loaded-tutorial",
   "metadata": {},
   "outputs": [
    {
     "data": {
      "text/html": [
       "<div>\n",
       "<style scoped>\n",
       "    .dataframe tbody tr th:only-of-type {\n",
       "        vertical-align: middle;\n",
       "    }\n",
       "\n",
       "    .dataframe tbody tr th {\n",
       "        vertical-align: top;\n",
       "    }\n",
       "\n",
       "    .dataframe thead th {\n",
       "        text-align: right;\n",
       "    }\n",
       "</style>\n",
       "<table border=\"1\" class=\"dataframe\">\n",
       "  <thead>\n",
       "    <tr style=\"text-align: right;\">\n",
       "      <th></th>\n",
       "      <th>Unnamed: 0</th>\n",
       "      <th>age</th>\n",
       "      <th>job</th>\n",
       "      <th>marital</th>\n",
       "      <th>education</th>\n",
       "      <th>default</th>\n",
       "      <th>housing</th>\n",
       "      <th>loan</th>\n",
       "      <th>contact</th>\n",
       "      <th>month</th>\n",
       "      <th>...</th>\n",
       "      <th>cons.conf.idx</th>\n",
       "      <th>euribor3m</th>\n",
       "      <th>nr.employed</th>\n",
       "      <th>deposit</th>\n",
       "      <th>age_group</th>\n",
       "      <th>season</th>\n",
       "      <th>pdays_bin</th>\n",
       "      <th>year</th>\n",
       "      <th>employment</th>\n",
       "      <th>month_num</th>\n",
       "    </tr>\n",
       "  </thead>\n",
       "  <tbody>\n",
       "    <tr>\n",
       "      <th>0</th>\n",
       "      <td>0</td>\n",
       "      <td>56</td>\n",
       "      <td>housemaid</td>\n",
       "      <td>married</td>\n",
       "      <td>basic.4y</td>\n",
       "      <td>no</td>\n",
       "      <td>no</td>\n",
       "      <td>no</td>\n",
       "      <td>telephone</td>\n",
       "      <td>may</td>\n",
       "      <td>...</td>\n",
       "      <td>-36.4</td>\n",
       "      <td>4.857</td>\n",
       "      <td>5191.0</td>\n",
       "      <td>0</td>\n",
       "      <td>Middle-aged</td>\n",
       "      <td>spring</td>\n",
       "      <td>0</td>\n",
       "      <td>2008</td>\n",
       "      <td>employed</td>\n",
       "      <td>5</td>\n",
       "    </tr>\n",
       "    <tr>\n",
       "      <th>1</th>\n",
       "      <td>1</td>\n",
       "      <td>57</td>\n",
       "      <td>services</td>\n",
       "      <td>married</td>\n",
       "      <td>high.school</td>\n",
       "      <td>unknown</td>\n",
       "      <td>no</td>\n",
       "      <td>no</td>\n",
       "      <td>telephone</td>\n",
       "      <td>may</td>\n",
       "      <td>...</td>\n",
       "      <td>-36.4</td>\n",
       "      <td>4.857</td>\n",
       "      <td>5191.0</td>\n",
       "      <td>0</td>\n",
       "      <td>Middle-aged</td>\n",
       "      <td>spring</td>\n",
       "      <td>0</td>\n",
       "      <td>2008</td>\n",
       "      <td>employed</td>\n",
       "      <td>5</td>\n",
       "    </tr>\n",
       "    <tr>\n",
       "      <th>2</th>\n",
       "      <td>2</td>\n",
       "      <td>37</td>\n",
       "      <td>services</td>\n",
       "      <td>married</td>\n",
       "      <td>high.school</td>\n",
       "      <td>no</td>\n",
       "      <td>yes</td>\n",
       "      <td>no</td>\n",
       "      <td>telephone</td>\n",
       "      <td>may</td>\n",
       "      <td>...</td>\n",
       "      <td>-36.4</td>\n",
       "      <td>4.857</td>\n",
       "      <td>5191.0</td>\n",
       "      <td>0</td>\n",
       "      <td>Adult</td>\n",
       "      <td>spring</td>\n",
       "      <td>0</td>\n",
       "      <td>2008</td>\n",
       "      <td>employed</td>\n",
       "      <td>5</td>\n",
       "    </tr>\n",
       "    <tr>\n",
       "      <th>3</th>\n",
       "      <td>3</td>\n",
       "      <td>40</td>\n",
       "      <td>admin.</td>\n",
       "      <td>married</td>\n",
       "      <td>basic.6y</td>\n",
       "      <td>no</td>\n",
       "      <td>no</td>\n",
       "      <td>no</td>\n",
       "      <td>telephone</td>\n",
       "      <td>may</td>\n",
       "      <td>...</td>\n",
       "      <td>-36.4</td>\n",
       "      <td>4.857</td>\n",
       "      <td>5191.0</td>\n",
       "      <td>0</td>\n",
       "      <td>Middle-aged</td>\n",
       "      <td>spring</td>\n",
       "      <td>0</td>\n",
       "      <td>2008</td>\n",
       "      <td>employed</td>\n",
       "      <td>5</td>\n",
       "    </tr>\n",
       "    <tr>\n",
       "      <th>4</th>\n",
       "      <td>4</td>\n",
       "      <td>56</td>\n",
       "      <td>services</td>\n",
       "      <td>married</td>\n",
       "      <td>high.school</td>\n",
       "      <td>no</td>\n",
       "      <td>no</td>\n",
       "      <td>yes</td>\n",
       "      <td>telephone</td>\n",
       "      <td>may</td>\n",
       "      <td>...</td>\n",
       "      <td>-36.4</td>\n",
       "      <td>4.857</td>\n",
       "      <td>5191.0</td>\n",
       "      <td>0</td>\n",
       "      <td>Middle-aged</td>\n",
       "      <td>spring</td>\n",
       "      <td>0</td>\n",
       "      <td>2008</td>\n",
       "      <td>employed</td>\n",
       "      <td>5</td>\n",
       "    </tr>\n",
       "    <tr>\n",
       "      <th>...</th>\n",
       "      <td>...</td>\n",
       "      <td>...</td>\n",
       "      <td>...</td>\n",
       "      <td>...</td>\n",
       "      <td>...</td>\n",
       "      <td>...</td>\n",
       "      <td>...</td>\n",
       "      <td>...</td>\n",
       "      <td>...</td>\n",
       "      <td>...</td>\n",
       "      <td>...</td>\n",
       "      <td>...</td>\n",
       "      <td>...</td>\n",
       "      <td>...</td>\n",
       "      <td>...</td>\n",
       "      <td>...</td>\n",
       "      <td>...</td>\n",
       "      <td>...</td>\n",
       "      <td>...</td>\n",
       "      <td>...</td>\n",
       "      <td>...</td>\n",
       "    </tr>\n",
       "    <tr>\n",
       "      <th>41171</th>\n",
       "      <td>41183</td>\n",
       "      <td>73</td>\n",
       "      <td>retired</td>\n",
       "      <td>married</td>\n",
       "      <td>professional.course</td>\n",
       "      <td>no</td>\n",
       "      <td>yes</td>\n",
       "      <td>no</td>\n",
       "      <td>cellular</td>\n",
       "      <td>nov</td>\n",
       "      <td>...</td>\n",
       "      <td>-50.8</td>\n",
       "      <td>1.028</td>\n",
       "      <td>4963.6</td>\n",
       "      <td>1</td>\n",
       "      <td>Senior</td>\n",
       "      <td>fall</td>\n",
       "      <td>0</td>\n",
       "      <td>2010</td>\n",
       "      <td>retired</td>\n",
       "      <td>11</td>\n",
       "    </tr>\n",
       "    <tr>\n",
       "      <th>41172</th>\n",
       "      <td>41184</td>\n",
       "      <td>46</td>\n",
       "      <td>blue-collar</td>\n",
       "      <td>married</td>\n",
       "      <td>professional.course</td>\n",
       "      <td>no</td>\n",
       "      <td>no</td>\n",
       "      <td>no</td>\n",
       "      <td>cellular</td>\n",
       "      <td>nov</td>\n",
       "      <td>...</td>\n",
       "      <td>-50.8</td>\n",
       "      <td>1.028</td>\n",
       "      <td>4963.6</td>\n",
       "      <td>0</td>\n",
       "      <td>Middle-aged</td>\n",
       "      <td>fall</td>\n",
       "      <td>0</td>\n",
       "      <td>2010</td>\n",
       "      <td>employed</td>\n",
       "      <td>11</td>\n",
       "    </tr>\n",
       "    <tr>\n",
       "      <th>41173</th>\n",
       "      <td>41185</td>\n",
       "      <td>56</td>\n",
       "      <td>retired</td>\n",
       "      <td>married</td>\n",
       "      <td>university.degree</td>\n",
       "      <td>no</td>\n",
       "      <td>yes</td>\n",
       "      <td>no</td>\n",
       "      <td>cellular</td>\n",
       "      <td>nov</td>\n",
       "      <td>...</td>\n",
       "      <td>-50.8</td>\n",
       "      <td>1.028</td>\n",
       "      <td>4963.6</td>\n",
       "      <td>0</td>\n",
       "      <td>Middle-aged</td>\n",
       "      <td>fall</td>\n",
       "      <td>0</td>\n",
       "      <td>2010</td>\n",
       "      <td>retired</td>\n",
       "      <td>11</td>\n",
       "    </tr>\n",
       "    <tr>\n",
       "      <th>41174</th>\n",
       "      <td>41186</td>\n",
       "      <td>44</td>\n",
       "      <td>technician</td>\n",
       "      <td>married</td>\n",
       "      <td>professional.course</td>\n",
       "      <td>no</td>\n",
       "      <td>no</td>\n",
       "      <td>no</td>\n",
       "      <td>cellular</td>\n",
       "      <td>nov</td>\n",
       "      <td>...</td>\n",
       "      <td>-50.8</td>\n",
       "      <td>1.028</td>\n",
       "      <td>4963.6</td>\n",
       "      <td>1</td>\n",
       "      <td>Middle-aged</td>\n",
       "      <td>fall</td>\n",
       "      <td>0</td>\n",
       "      <td>2010</td>\n",
       "      <td>employed</td>\n",
       "      <td>11</td>\n",
       "    </tr>\n",
       "    <tr>\n",
       "      <th>41175</th>\n",
       "      <td>41187</td>\n",
       "      <td>74</td>\n",
       "      <td>retired</td>\n",
       "      <td>married</td>\n",
       "      <td>professional.course</td>\n",
       "      <td>no</td>\n",
       "      <td>yes</td>\n",
       "      <td>no</td>\n",
       "      <td>cellular</td>\n",
       "      <td>nov</td>\n",
       "      <td>...</td>\n",
       "      <td>-50.8</td>\n",
       "      <td>1.028</td>\n",
       "      <td>4963.6</td>\n",
       "      <td>0</td>\n",
       "      <td>Senior</td>\n",
       "      <td>fall</td>\n",
       "      <td>0</td>\n",
       "      <td>2010</td>\n",
       "      <td>retired</td>\n",
       "      <td>11</td>\n",
       "    </tr>\n",
       "  </tbody>\n",
       "</table>\n",
       "<p>41176 rows × 28 columns</p>\n",
       "</div>"
      ],
      "text/plain": [
       "       Unnamed: 0  age          job  marital            education  default  \\\n",
       "0               0   56    housemaid  married             basic.4y       no   \n",
       "1               1   57     services  married          high.school  unknown   \n",
       "2               2   37     services  married          high.school       no   \n",
       "3               3   40       admin.  married             basic.6y       no   \n",
       "4               4   56     services  married          high.school       no   \n",
       "...           ...  ...          ...      ...                  ...      ...   \n",
       "41171       41183   73      retired  married  professional.course       no   \n",
       "41172       41184   46  blue-collar  married  professional.course       no   \n",
       "41173       41185   56      retired  married    university.degree       no   \n",
       "41174       41186   44   technician  married  professional.course       no   \n",
       "41175       41187   74      retired  married  professional.course       no   \n",
       "\n",
       "      housing loan    contact month  ... cons.conf.idx  euribor3m  \\\n",
       "0          no   no  telephone   may  ...         -36.4      4.857   \n",
       "1          no   no  telephone   may  ...         -36.4      4.857   \n",
       "2         yes   no  telephone   may  ...         -36.4      4.857   \n",
       "3          no   no  telephone   may  ...         -36.4      4.857   \n",
       "4          no  yes  telephone   may  ...         -36.4      4.857   \n",
       "...       ...  ...        ...   ...  ...           ...        ...   \n",
       "41171     yes   no   cellular   nov  ...         -50.8      1.028   \n",
       "41172      no   no   cellular   nov  ...         -50.8      1.028   \n",
       "41173     yes   no   cellular   nov  ...         -50.8      1.028   \n",
       "41174      no   no   cellular   nov  ...         -50.8      1.028   \n",
       "41175     yes   no   cellular   nov  ...         -50.8      1.028   \n",
       "\n",
       "       nr.employed  deposit    age_group  season  pdays_bin  year  employment  \\\n",
       "0           5191.0        0  Middle-aged  spring          0  2008    employed   \n",
       "1           5191.0        0  Middle-aged  spring          0  2008    employed   \n",
       "2           5191.0        0        Adult  spring          0  2008    employed   \n",
       "3           5191.0        0  Middle-aged  spring          0  2008    employed   \n",
       "4           5191.0        0  Middle-aged  spring          0  2008    employed   \n",
       "...            ...      ...          ...     ...        ...   ...         ...   \n",
       "41171       4963.6        1       Senior    fall          0  2010     retired   \n",
       "41172       4963.6        0  Middle-aged    fall          0  2010    employed   \n",
       "41173       4963.6        0  Middle-aged    fall          0  2010     retired   \n",
       "41174       4963.6        1  Middle-aged    fall          0  2010    employed   \n",
       "41175       4963.6        0       Senior    fall          0  2010     retired   \n",
       "\n",
       "       month_num  \n",
       "0              5  \n",
       "1              5  \n",
       "2              5  \n",
       "3              5  \n",
       "4              5  \n",
       "...          ...  \n",
       "41171         11  \n",
       "41172         11  \n",
       "41173         11  \n",
       "41174         11  \n",
       "41175         11  \n",
       "\n",
       "[41176 rows x 28 columns]"
      ]
     },
     "execution_count": 2,
     "metadata": {},
     "output_type": "execute_result"
    }
   ],
   "source": [
    "df=pd.read_csv('bank_marketing_modified.csv')\n",
    "df"
   ]
  },
  {
   "cell_type": "code",
   "execution_count": 3,
   "id": "rental-pride",
   "metadata": {},
   "outputs": [],
   "source": [
    "X=df.loc[:,['campaign','previous','emp.var.rate','poutcome','euribor3m','nr.employed',\n",
    "            'cons.price.idx','cons.conf.idx','marital','education','contact','employment',\n",
    "            'housing','loan','day_of_week','pdays_bin','age_group','default','month','year']]\n",
    "y=df['deposit']"
   ]
  },
  {
   "cell_type": "code",
   "execution_count": 4,
   "id": "periodic-bench",
   "metadata": {},
   "outputs": [
    {
     "data": {
      "text/plain": [
       "{'classifier__use_label_encoder': False,\n",
       " 'classifier__subsample': 0.8,\n",
       " 'classifier__scale_pos_weight': 8,\n",
       " 'classifier__objective': 'binary:logistic',\n",
       " 'classifier__n_estimators': 100,\n",
       " 'classifier__min_child_weight': 3,\n",
       " 'classifier__max_depth': 5,\n",
       " 'classifier__learning_rate': 0.05,\n",
       " 'classifier__eval_metric': 'logloss',\n",
       " 'classifier__colsample_bytree': 1}"
      ]
     },
     "execution_count": 4,
     "metadata": {},
     "output_type": "execute_result"
    }
   ],
   "source": [
    "param_grid={'classifier__n_estimators':[100,500,200],\n",
    "           'classifier__max_depth':[3,5,7],\n",
    "           'classifier__learning_rate':[0.1,0.05,0.15],\n",
    "            'classifier__use_label_encoder':[False],\n",
    "           'classifier__subsample':[0.5,0.8,1],\n",
    "           'classifier__min_child_weight':[3,5,7],\n",
    "           'classifier__colsample_bytree':[.5,.8,1],\n",
    "           'classifier__objective':['binary:logistic'],\n",
    "           'classifier__scale_pos_weight':[8,10],\n",
    "           'classifier__eval_metric':['logloss']}\n",
    "classifiers_no_stan(xgb.XGBClassifier(),X,y)\n",
    "from jne_functions import pipe, X_train, X_test, y_train, y_test\n",
    "\n",
    "from sklearn.metrics import f1_score, make_scorer\n",
    "f1 = make_scorer(f1_score , average='macro')\n",
    "rand_XGB=RandomizedSearchCV(pipe,param_distributions=param_grid,cv=5, scoring=f1, n_iter=25)\n",
    "rand_XGB.fit(X_train,y_train)\n",
    "rand_XGB.best_params_"
   ]
  },
  {
   "cell_type": "code",
   "execution_count": 5,
   "id": "involved-strap",
   "metadata": {},
   "outputs": [
    {
     "data": {
      "text/plain": [
       "array([[6241, 1067],\n",
       "       [ 346,  582]])"
      ]
     },
     "execution_count": 5,
     "metadata": {},
     "output_type": "execute_result"
    }
   ],
   "source": [
    "confusion_matrix(y_test, rand_XGB.predict(X_test))"
   ]
  },
  {
   "cell_type": "code",
   "execution_count": 6,
   "id": "juvenile-railway",
   "metadata": {
    "scrolled": false
   },
   "outputs": [
    {
     "data": {
      "application/vnd.jupyter.widget-view+json": {
       "model_id": "1647ca446eda4f12b4daeebadb7fab41",
       "version_major": 2,
       "version_minor": 0
      },
      "text/plain": [
       "interactive(children=(FloatSlider(value=0.5, description='threshold', max=1.0, step=0.02), Output()), _dom_cla…"
      ]
     },
     "metadata": {},
     "output_type": "display_data"
    }
   ],
   "source": [
    "interactive(lambda threshold: make_confusion_matrix(rand_XGB, threshold), threshold=(0.0,1.0,0.02))"
   ]
  },
  {
   "cell_type": "code",
   "execution_count": 7,
   "id": "controlling-experience",
   "metadata": {},
   "outputs": [
    {
     "data": {
      "image/png": "[encoded data removed]",
      "text/plain": [
       "<Figure size 480x320 with 2 Axes>"
      ]
     },
     "metadata": {
      "needs_background": "light"
     },
     "output_type": "display_data"
    }
   ],
   "source": [
    "make_confusion_matrix(rand_XGB,0.50)\n",
    "plt.title('XGBoost Confusion Matrix')\n",
    "plt.savefig('XGB_confusion_matrix.svg',format='svg');"
   ]
  },
  {
   "cell_type": "code",
   "execution_count": 8,
   "id": "immediate-veteran",
   "metadata": {
    "scrolled": false
   },
   "outputs": [
    {
     "data": {
      "image/png": "[encoded data removed]",
      "text/plain": [
       "<Figure size 432x288 with 1 Axes>"
      ]
     },
     "metadata": {
      "needs_background": "light"
     },
     "output_type": "display_data"
    }
   ],
   "source": [
    "feats={}\n",
    "for feature,importance in zip(X_train.columns, rand_XGB.best_estimator_.named_steps['classifier'].feature_importances_):\n",
    "    feats[feature]=importance\n",
    "importances=pd.DataFrame.from_dict(feats,orient='index').rename(columns={0:'importance'})\n",
    "importances.sort_values(by='importance').plot(kind='barh')\n",
    "plt.title('XGBoost Feature Importance')\n",
    "plt.tick_params(colors='black')\n",
    "plt.grid(b=None)\n",
    "plt.ylabel('Features').set_color('black')\n",
    "plt.xlabel('Feature Importance').set_color('black')\n",
    "plt.savefig('xgboost_feature_importance.svg',format='svg');"
   ]
  },
  {
   "cell_type": "code",
   "execution_count": 19,
   "id": "entitled-greeting",
   "metadata": {},
   "outputs": [
    {
     "data": {
      "image/png": "[encoded data removed]",
      "text/plain": [
       "<Figure size 432x288 with 1 Axes>"
      ]
     },
     "metadata": {
      "needs_background": "light"
     },
     "output_type": "display_data"
    }
   ],
   "source": [
    "feats={}\n",
    "for feature,importance in zip(X_train.columns, rand_XGB.best_estimator_.named_steps['classifier'].feature_importances_):\n",
    "    feats[feature]=importance\n",
    "importances=pd.DataFrame.from_dict(feats,orient='index').rename(columns={0:'importance'})\n",
    "importances.sort_values(by='importance').plot(kind='barh')\n",
    "plt.title('XGBoost Feature Importance')\n",
    "plt.tick_params(colors='black')\n",
    "plt.grid(b=None)\n",
    "\n",
    "y=[0,1,2,3,4,5,6,7,8,9,10,11,12,13,14,15,16,17,18,19]\n",
    "labels=['Employment','Consumer Price Index','Consumer Confidence Index','Days since Previous Contact',\n",
    "        'Age Group','Number of Employees','Number of Contacts: Current','Number of Contacts: Previous',\n",
    "        'Education','Previous Outcome','Marital Status','Loan Default','Day of the Week','Personal Loan',\n",
    "        '3 Month Euribor','Employment Variation Rate','Year','Month','Contact Method','Housing Loan']\n",
    "plt.yticks(y,labels)\n",
    "plt.ylabel('Features').set_color('black')\n",
    "plt.xlabel('Feature Importance').set_color('black')\n",
    "plt.savefig('xgboost_feature_importance_detailed.svg',format='svg');"
   ]
  },
  {
   "cell_type": "code",
   "execution_count": 10,
   "id": "similar-cleaner",
   "metadata": {},
   "outputs": [
    {
     "data": {
      "text/plain": [
       "array([0.00459501, 0.00522229, 0.00856299, 0.00617656, 0.00801766,\n",
       "       0.00450938, 0.        , 0.00297634, 0.00633327, 0.00547311,\n",
       "       0.01625069, 0.        , 0.02551809, 0.00755908, 0.007547  ,\n",
       "       0.00380069, 0.00414625, 0.00698637, 0.01230962, 0.00944906,\n",
       "       0.00823907, 0.01557382, 0.09854478, 0.00763651, 0.02960376,\n",
       "       0.0052527 , 0.00814073, 0.00382115, 0.        , 0.00413524,\n",
       "       0.00716469, 0.00570354, 0.00626385, 0.00357122, 0.00697959,\n",
       "       0.0104234 , 0.01026002, 0.00764534, 0.08114288, 0.30302966,\n",
       "       0.23143454], dtype=float32)"
      ]
     },
     "execution_count": 10,
     "metadata": {},
     "output_type": "execute_result"
    }
   ],
   "source": [
    "rand_XGB.best_estimator_.named_steps['classifier'].feature_importances_"
   ]
  },
  {
   "cell_type": "code",
   "execution_count": 11,
   "id": "competitive-treasure",
   "metadata": {},
   "outputs": [
    {
     "data": {
      "image/png": "[encoded data removed]",
      "text/plain": [
       "<Figure size 480x320 with 1 Axes>"
      ]
     },
     "metadata": {
      "needs_background": "light"
     },
     "output_type": "display_data"
    }
   ],
   "source": [
    "precision_curve, recall_curve, threshold_curve = precision_recall_curve(y_test, rand_XGB.predict_proba(X_test)[:,1] )\n",
    "plt.figure(dpi=80)\n",
    "plt.plot(threshold_curve, precision_curve[1:],label='precision')\n",
    "plt.plot(threshold_curve, recall_curve[1:], label='recall')\n",
    "plt.legend(loc='lower left')\n",
    "plt.xlabel('Threshold (above this probability, label as yes)').set_color('black')\n",
    "plt.tick_params(colors='black')\n",
    "plt.grid(b=None)\n",
    "plt.title('XGBoost Precision and Recall Curves');\n",
    "plt.savefig('XGBoost_prcurve.svg',format='svg')"
   ]
  },
  {
   "cell_type": "code",
   "execution_count": 12,
   "id": "fancy-growing",
   "metadata": {},
   "outputs": [
    {
     "data": {
      "text/plain": [
       "0.6749983767328638"
      ]
     },
     "execution_count": 12,
     "metadata": {},
     "output_type": "execute_result"
    }
   ],
   "source": [
    "y_predict = rand_XGB.predict(X_test)\n",
    "f1_score(y_test, y_predict,average='macro')"
   ]
  },
  {
   "cell_type": "code",
   "execution_count": 13,
   "id": "fabulous-reach",
   "metadata": {},
   "outputs": [
    {
     "name": "stdout",
     "output_type": "stream",
     "text": [
      "              precision    recall  f1-score   support\n",
      "\n",
      "           0       0.95      0.85      0.90      7308\n",
      "           1       0.35      0.63      0.45       928\n",
      "\n",
      "    accuracy                           0.83      8236\n",
      "   macro avg       0.65      0.74      0.67      8236\n",
      "weighted avg       0.88      0.83      0.85      8236\n",
      "\n"
     ]
    }
   ],
   "source": [
    "from sklearn.metrics import classification_report\n",
    "print(classification_report(y_test,y_predict))"
   ]
  },
  {
   "cell_type": "code",
   "execution_count": 14,
   "id": "entertaining-kitchen",
   "metadata": {},
   "outputs": [],
   "source": [
    "from sklearn.metrics import roc_auc_score, roc_curve\n",
    "\n",
    "fpr, tpr, thresholds = roc_curve(y_test, rand_XGB.predict_proba(X_test)[:,1])"
   ]
  },
  {
   "cell_type": "code",
   "execution_count": 15,
   "id": "twenty-forest",
   "metadata": {},
   "outputs": [
    {
     "name": "stdout",
     "output_type": "stream",
     "text": [
      "ROC AUC score =  0.7920947225997017\n"
     ]
    },
    {
     "data": {
      "image/png": "[encoded data removed]",
      "text/plain": [
       "<Figure size 432x288 with 1 Axes>"
      ]
     },
     "metadata": {
      "needs_background": "light"
     },
     "output_type": "display_data"
    }
   ],
   "source": [
    "plt.plot(fpr, tpr,lw=2)\n",
    "plt.plot([0,1],[0,1],c='violet',ls='--')\n",
    "plt.xlim([-0.05,1.05])\n",
    "plt.ylim([-0.05,1.05])\n",
    "\n",
    "\n",
    "plt.xlabel('False positive rate').set_color('black')\n",
    "plt.ylabel('True positive rate').set_color('black')\n",
    "plt.tick_params(colors='black')\n",
    "plt.title('XGBOOST ROC curve for deposit data')\n",
    "plt.savefig('XGboostROC.svg',format='svg');\n",
    "print(\"ROC AUC score = \", roc_auc_score(y_test, rand_XGB.predict_proba(X_test)[:,1]))"
   ]
  },
  {
   "cell_type": "markdown",
   "id": "controlling-reliance",
   "metadata": {},
   "source": [
    "# Random Oversampling"
   ]
  },
  {
   "cell_type": "code",
   "execution_count": 16,
   "id": "sublime-foundation",
   "metadata": {},
   "outputs": [],
   "source": [
    "X=df.loc[:,['campaign','previous','emp.var.rate','poutcome','euribor3m','nr.employed',\n",
    "            'cons.price.idx','cons.conf.idx','marital','education','contact','employment',\n",
    "            'housing','loan','day_of_week','pdays_bin','age_group','default','month','year']]\n",
    "y=df['deposit']"
   ]
  },
  {
   "cell_type": "code",
   "execution_count": 18,
   "id": "growing-heavy",
   "metadata": {},
   "outputs": [
    {
     "data": {
      "text/plain": [
       "{'classifier__use_label_encoder': False,\n",
       " 'classifier__subsample': 0.8,\n",
       " 'classifier__objective': 'binary:logistic',\n",
       " 'classifier__n_estimators': 500,\n",
       " 'classifier__min_child_weight': 3,\n",
       " 'classifier__max_depth': 7,\n",
       " 'classifier__learning_rate': 0.15,\n",
       " 'classifier__eval_metric': 'logloss',\n",
       " 'classifier__colsample_bytree': 1}"
      ]
     },
     "execution_count": 18,
     "metadata": {},
     "output_type": "execute_result"
    }
   ],
   "source": [
    "param_grid={'classifier__n_estimators':[100,200,500],\n",
    "           'classifier__max_depth':[3,5,7],\n",
    "           'classifier__use_label_encoder':[False],\n",
    "           'classifier__learning_rate':[0.1,0.05,0.15],\n",
    "           'classifier__subsample':[0.5,0.8,1],\n",
    "           'classifier__min_child_weight':[1,3,5,],\n",
    "           'classifier__colsample_bytree':[.5,.8,1],\n",
    "           'classifier__objective':['binary:logistic'],\n",
    "           'classifier__eval_metric':['logloss']}\n",
    "classifiers_no_stan(xgb.XGBClassifier(),X,y)\n",
    "from jne_functions import pipe, X_train, X_test, y_train, y_test\n",
    "\n",
    "from imblearn.over_sampling import RandomOverSampler\n",
    "ros = RandomOverSampler(random_state=0)\n",
    "ros_X_train, ros_y_train = ros.fit_sample(X_train,y_train)\n",
    "\n",
    "from sklearn.metrics import f1_score, make_scorer\n",
    "f1 = make_scorer(f1_score , average='macro')\n",
    "rand_XGB_OVER=RandomizedSearchCV(pipe,param_distributions=param_grid,cv=5, scoring=f1, n_iter=25)\n",
    "rand_XGB_OVER.fit(ros_X_train,ros_y_train)\n",
    "rand_XGB_OVER.best_params_"
   ]
  },
  {
   "cell_type": "code",
   "execution_count": 20,
   "id": "trying-dairy",
   "metadata": {},
   "outputs": [
    {
     "data": {
      "text/plain": [
       "array([[6169, 1139],\n",
       "       [ 431,  497]])"
      ]
     },
     "execution_count": 20,
     "metadata": {},
     "output_type": "execute_result"
    }
   ],
   "source": [
    "confusion_matrix(y_test, rand_XGB_OVER.predict(X_test))"
   ]
  },
  {
   "cell_type": "code",
   "execution_count": 21,
   "id": "coated-decision",
   "metadata": {},
   "outputs": [
    {
     "data": {
      "application/vnd.jupyter.widget-view+json": {
       "model_id": "9021fcf66a53402189636cb7bfb2fa0e",
       "version_major": 2,
       "version_minor": 0
      },
      "text/plain": [
       "interactive(children=(FloatSlider(value=0.5, description='threshold', max=1.0, step=0.02), Output()), _dom_cla…"
      ]
     },
     "metadata": {},
     "output_type": "display_data"
    }
   ],
   "source": [
    "interactive(lambda threshold: make_confusion_matrix(rand_XGB_OVER, threshold), threshold=(0.0,1.0,0.02))"
   ]
  },
  {
   "cell_type": "code",
   "execution_count": 22,
   "id": "final-housing",
   "metadata": {},
   "outputs": [
    {
     "name": "stdout",
     "output_type": "stream",
     "text": [
      "              precision    recall  f1-score   support\n",
      "\n",
      "           0       0.95      0.85      0.90      7308\n",
      "           1       0.35      0.63      0.45       928\n",
      "\n",
      "    accuracy                           0.83      8236\n",
      "   macro avg       0.65      0.74      0.67      8236\n",
      "weighted avg       0.88      0.83      0.85      8236\n",
      "\n"
     ]
    }
   ],
   "source": [
    "print(classification_report(y_test,y_predict))"
   ]
  },
  {
   "cell_type": "code",
   "execution_count": 23,
   "id": "cardiovascular-organization",
   "metadata": {},
   "outputs": [],
   "source": [
    "OS_fpr, OS_tpr, thresholds = roc_curve(y_test, rand_XGB_OVER.predict_proba(X_test)[:,1])"
   ]
  },
  {
   "cell_type": "code",
   "execution_count": 24,
   "id": "imported-director",
   "metadata": {},
   "outputs": [
    {
     "name": "stdout",
     "output_type": "stream",
     "text": [
      "ROC AUC score =  0.7364425853575675\n"
     ]
    },
    {
     "data": {
      "image/png": "[encoded data removed]",
      "text/plain": [
       "<Figure size 432x288 with 1 Axes>"
      ]
     },
     "metadata": {
      "needs_background": "light"
     },
     "output_type": "display_data"
    }
   ],
   "source": [
    "plt.plot(OS_fpr, OS_tpr,lw=2)\n",
    "plt.plot([0,1],[0,1],c='violet',ls='--')\n",
    "plt.xlim([-0.05,1.05])\n",
    "plt.ylim([-0.05,1.05])\n",
    "\n",
    "\n",
    "plt.xlabel('False positive rate')\n",
    "plt.ylabel('True positive rate')\n",
    "plt.title('ROC curve for deposit data');\n",
    "print(\"ROC AUC score = \", roc_auc_score(y_test, rand_XGB_OVER.predict_proba(X_test)[:,1]))"
   ]
  },
  {
   "cell_type": "code",
   "execution_count": null,
   "id": "alpha-nepal",
   "metadata": {},
   "outputs": [],
   "source": []
  }
 ],
 "metadata": {
  "kernelspec": {
   "display_name": "Python [conda env:metis] *",
   "language": "python",
   "name": "conda-env-metis-py"
  },
  "language_info": {
   "codemirror_mode": {
    "name": "ipython",
    "version": 3
   },
   "file_extension": ".py",
   "mimetype": "text/x-python",
   "name": "python",
   "nbconvert_exporter": "python",
   "pygments_lexer": "ipython3",
   "version": "3.8.6"
  }
 },
 "nbformat": 4,
 "nbformat_minor": 5
}
